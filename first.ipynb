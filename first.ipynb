{
  "nbformat": 4,
  "nbformat_minor": 0,
  "metadata": {
    "colab": {
      "name": "first.ipynb",
      "provenance": [],
      "authorship_tag": "ABX9TyMYruJys/0bbh9kOpuyZI+3",
      "include_colab_link": true
    },
    "kernelspec": {
      "name": "python3",
      "display_name": "Python 3"
    },
    "language_info": {
      "name": "python"
    }
  },
  "cells": [
    {
      "cell_type": "markdown",
      "metadata": {
        "id": "view-in-github",
        "colab_type": "text"
      },
      "source": [
        "<a href=\"https://colab.research.google.com/github/mohsenshahii/first_practice/blob/main/first.ipynb\" target=\"_parent\"><img src=\"https://colab.research.google.com/assets/colab-badge.svg\" alt=\"Open In Colab\"/></a>"
      ]
    },
    {
      "cell_type": "code",
      "execution_count": null,
      "metadata": {
        "id": "L3gONl88AcDP"
      },
      "outputs": [],
      "source": [
        "import numpy as np\n"
      ]
    },
    {
      "cell_type": "code",
      "source": [
        "list_of_numbers_a = [23,12,4,45,34,88]\n",
        "list_of_numbers_b = list(range(6))"
      ],
      "metadata": {
        "id": "EmccJAysJWfH"
      },
      "execution_count": null,
      "outputs": []
    },
    {
      "cell_type": "code",
      "source": [
        "list_of_numbers_a"
      ],
      "metadata": {
        "colab": {
          "base_uri": "https://localhost:8080/"
        },
        "id": "SpB4xVGTKPBf",
        "outputId": "29032cc6-b90d-4b0c-8b58-589f740682bd"
      },
      "execution_count": null,
      "outputs": [
        {
          "output_type": "execute_result",
          "data": {
            "text/plain": [
              "[23, 12, 4, 45, 34, 87]"
            ]
          },
          "metadata": {},
          "execution_count": 23
        }
      ]
    },
    {
      "cell_type": "code",
      "source": [
        "def sum_two_vectors(v1,v2):\n",
        "  if len(v1) == len(v2):\n",
        "     result_vector = []\n",
        "     for i in range(len(v1)):\n",
        "         result_vector.append(v1[i] + v2[i])\n",
        "     return result_vector\n",
        "  return 0      "
      ],
      "metadata": {
        "id": "yqU16K67JjNa"
      },
      "execution_count": null,
      "outputs": []
    },
    {
      "cell_type": "code",
      "source": [
        "sum_two_vectors(list_of_numbers_a , list_of_numbers_b)\n"
      ],
      "metadata": {
        "colab": {
          "base_uri": "https://localhost:8080/"
        },
        "id": "KTfCtcgVNVsv",
        "outputId": "50452e56-f26a-4906-abcf-2a57d01d63e0"
      },
      "execution_count": null,
      "outputs": [
        {
          "output_type": "execute_result",
          "data": {
            "text/plain": [
              "[23, 13, 6, 48, 38, 92]"
            ]
          },
          "metadata": {},
          "execution_count": 28
        }
      ]
    },
    {
      "cell_type": "code",
      "source": [
        "A = np.array(list_of_numbers_a)\n",
        "B = np.array(list_of_numbers_b)"
      ],
      "metadata": {
        "id": "jhHb4oGaQnD4"
      },
      "execution_count": null,
      "outputs": []
    },
    {
      "cell_type": "code",
      "source": [
        "A.mean()"
      ],
      "metadata": {
        "colab": {
          "base_uri": "https://localhost:8080/"
        },
        "id": "DH2uDdE6Q2mP",
        "outputId": "7193f069-5d86-4835-b86d-86f933aeeff8"
      },
      "execution_count": null,
      "outputs": [
        {
          "output_type": "execute_result",
          "data": {
            "text/plain": [
              "34.166666666666664"
            ]
          },
          "metadata": {},
          "execution_count": 32
        }
      ]
    },
    {
      "cell_type": "code",
      "source": [
        "A.var()"
      ],
      "metadata": {
        "colab": {
          "base_uri": "https://localhost:8080/"
        },
        "id": "9mSV8qKURleH",
        "outputId": "67ad93ae-b0aa-4565-c5c6-1279d13ad1cd"
      },
      "execution_count": null,
      "outputs": [
        {
          "output_type": "execute_result",
          "data": {
            "text/plain": [
              "739.1388888888888"
            ]
          },
          "metadata": {},
          "execution_count": 36
        }
      ]
    },
    {
      "cell_type": "code",
      "source": [
        "A.sum()"
      ],
      "metadata": {
        "colab": {
          "base_uri": "https://localhost:8080/"
        },
        "id": "FjXZRfRuR4EA",
        "outputId": "f2859c01-a203-4017-8349-6517d66e85e1"
      },
      "execution_count": null,
      "outputs": [
        {
          "output_type": "execute_result",
          "data": {
            "text/plain": [
              "205"
            ]
          },
          "metadata": {},
          "execution_count": 37
        }
      ]
    },
    {
      "cell_type": "code",
      "source": [
        "A_mask = (A >= A.mean()) & (A % 2 == 0)"
      ],
      "metadata": {
        "id": "bYR9pYjSR_NN"
      },
      "execution_count": null,
      "outputs": []
    },
    {
      "cell_type": "code",
      "source": [
        "A[A_mask]\n"
      ],
      "metadata": {
        "colab": {
          "base_uri": "https://localhost:8080/"
        },
        "id": "zmFkjbA6U8Ym",
        "outputId": "7babb613-6513-47ee-94c9-690eae18ea8b"
      },
      "execution_count": null,
      "outputs": [
        {
          "output_type": "execute_result",
          "data": {
            "text/plain": [
              "array([], dtype=int64)"
            ]
          },
          "metadata": {},
          "execution_count": 64
        }
      ]
    }
  ]
}